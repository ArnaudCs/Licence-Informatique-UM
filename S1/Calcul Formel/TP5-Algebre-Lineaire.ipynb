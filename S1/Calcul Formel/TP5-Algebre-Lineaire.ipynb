{
 "cells": [
  {
   "cell_type": "code",
   "execution_count": 0,
   "metadata": {},
   "outputs": [],
   "source": []
  },
  {
   "cell_type": "markdown",
   "metadata": {
    "deletable": false,
    "editable": false,
    "run_control": {
     "frozen": true
    }
   },
   "source": [
    "\n",
    "# TP Matrices et Vecteurs: un peu d'algèbre linéaire\n",
    "\n",
    "Durant cette séance nous nous intéressons à la manipulation de matrices et de vecteurs et nous aborderons des concepts généraux en algèbre linéaire.\n",
    "\n",
    "## Introduction\n",
    "\n",
    "### Matrices\n",
    "Tout d'abord notons que la création d'une matrice $A$ de dimension $m \\times n$ en Sage s'obtient par la commande \n",
    "\n",
    "`A=matrix(m,n,[[ligne1],[ligne2],...,lignem]])`\n",
    "\n",
    "ou m est le nombre de ligne et n le nombre d'éléments dans une ligne (autrement dit n est le nombre de colonne). Par défaut, les éléments de cette matrice seront considérés dans le domaine de définition des éléments passé dans les lignes. Si m et n sont spécifiés on peut simplement donner une seule liste de valeurs (pas besoin de liste de liste)."
   ]
  },
  {
   "cell_type": "code",
   "execution_count": 4,
   "metadata": {},
   "outputs": [
    {
     "data": {
      "text/html": [
       "<html><script type=\"math/tex; mode=display\">\\newcommand{\\Bold}[1]{\\mathbf{#1}}\\left(\\begin{array}{rr}\n",
       "0 & 0 \\\\\n",
       "0 & 0\n",
       "\\end{array}\\right)</script></html>"
      ],
      "text/plain": [
       "[0 0]\n",
       "[0 0]"
      ]
     },
     "metadata": {},
     "output_type": "display_data"
    }
   ],
   "source": [
    "A=matrix(2,2)\n",
    "show(A)"
   ]
  },
  {
   "cell_type": "markdown",
   "metadata": {
    "deletable": false,
    "editable": false,
    "run_control": {
     "frozen": true
    }
   },
   "source": [
    "- si les éléments sont différents, la coercion de type la plus englobante sera utilisée\n",
    "- si on souhaite un type particulier, on spécifit le domaine des définitions des éléments comme premier argument"
   ]
  },
  {
   "cell_type": "code",
   "execution_count": 1,
   "metadata": {},
   "outputs": [
    {
     "data": {
      "text/html": [
       "<html><script type=\"math/tex; mode=display\">\\newcommand{\\Bold}[1]{\\mathbf{#1}}\\left(\\begin{array}{rr}\n",
       "1 & 2 \\\\\n",
       "1 & 2\n",
       "\\end{array}\\right)</script></html>"
      ],
      "text/plain": [
       "[1 2]\n",
       "[1 2]"
      ]
     },
     "metadata": {},
     "output_type": "display_data"
    }
   ],
   "source": [
    "A=matrix(2,2, [1,2,1,2])\n",
    "show(A)"
   ]
  },
  {
   "cell_type": "markdown",
   "metadata": {
    "deletable": false,
    "editable": false,
    "run_control": {
     "frozen": true
    }
   },
   "source": [
    "### Vecteurs\n",
    "Cela marche de manière identique pour les vecteurs avec la commande\n",
    "\n",
    "`vector([e1,e2,...,em])`\n",
    "\n",
    "Les vecteurs ne sont pas orientés, ils sont à la fois ligne et colonnes, le choix se fera selon le contexte. \n",
    "Si l'on souhaite créer des vecteurs d'une certaine dimension il faudra toujours donner le domaine de définition des coefficients.\n",
    "\n",
    "`vector(DD, [e1,e2,...,em])` ou `vector(DD,m)`\n",
    "\n",
    "Si l'on souhaite orienter un vecteur, il suffira de créer une matrice à 1 ligne ou 1 colonne. "
   ]
  },
  {
   "cell_type": "code",
   "execution_count": 1,
   "metadata": {},
   "outputs": [
    {
     "data": {
      "text/plain": [
       "(5, 4)"
      ]
     },
     "execution_count": 1,
     "metadata": {},
     "output_type": "execute_result"
    }
   ],
   "source": [
    "vector([5,4])"
   ]
  },
  {
   "cell_type": "markdown",
   "metadata": {
    "deletable": false,
    "editable": false,
    "run_control": {
     "frozen": true
    }
   },
   "source": [
    "## Multiplication\n",
    "\n",
    "L'operateur `*` permet de faire la multiplication des matrices et des vecteurs comme suit:\n",
    "- un vecteur ligne avec un matrice: `v*A`\n",
    "- une matrice avec un vecteur colonne: `A*v`\n",
    "- un vecteur ligne avec un vecteur colonne (produit scalaire): `v1*v2`\n",
    "- un vecteur colonne avec un vecteur ligne (produit ouvert): `v2*v1`\n",
    "- un vecteur ou une matrice avec un scalaire : `a*A` ou `a*v` \n",
    "\n",
    "### Question\n",
    "À partir des matrices et des vecteurs suivants donner tous les produits possibles et afficher le domaine parmi (`ZZ`,`QQ`,`SR`) dans lequel a été effectué le calcul\n",
    "$$\n",
    "A=\\begin{pmatrix} 1&2&3\\\\4&5&6\\end{pmatrix}, B=\\begin{pmatrix} 3&6&9\\\\1&2&4\\\\1&2&3\\end{pmatrix}, u=\\begin{pmatrix} 1&x&x^2 \\end{pmatrix}, v=\\begin{pmatrix} 8\\\\5 \\\\ 7/3\\end{pmatrix}\n",
    "$$\n"
   ]
  },
  {
   "cell_type": "code",
   "execution_count": 16,
   "metadata": {},
   "outputs": [
    {
     "name": "stdout",
     "output_type": "stream",
     "text": [
      "Multiplication impossible 0\n"
     ]
    },
    {
     "data": {
      "text/html": [
       "<html><script type=\"math/tex; mode=display\">\\newcommand{\\Bold}[1]{\\mathbf{#1}}\\left(\\begin{array}{rrr}\n",
       "8 & 16 & 26 \\\\\n",
       "23 & 46 & 74\n",
       "\\end{array}\\right)</script></html>"
      ],
      "text/plain": [
       "[ 8 16 26]\n",
       "[23 46 74]"
      ]
     },
     "metadata": {},
     "output_type": "display_data"
    },
    {
     "data": {
      "text/html": [
       "<html><script type=\"math/tex; mode=display\">\\newcommand{\\Bold}[1]{\\mathbf{#1}}\\Bold{Z}</script></html>"
      ],
      "text/plain": [
       "Integer Ring"
      ]
     },
     "metadata": {},
     "output_type": "display_data"
    },
    {
     "name": "stdout",
     "output_type": "stream",
     "text": [
      "Multiplication impossible 1\n"
     ]
    },
    {
     "data": {
      "text/html": [
       "<html><script type=\"math/tex; mode=display\">\\newcommand{\\Bold}[1]{\\mathbf{#1}}\\left(\\begin{array}{r}\n",
       "25 \\\\\n",
       "71\n",
       "\\end{array}\\right)</script></html>"
      ],
      "text/plain": [
       "[25]\n",
       "[71]"
      ]
     },
     "metadata": {},
     "output_type": "display_data"
    },
    {
     "data": {
      "text/html": [
       "<html><script type=\"math/tex; mode=display\">\\newcommand{\\Bold}[1]{\\mathbf{#1}}\\Bold{Q}</script></html>"
      ],
      "text/plain": [
       "Rational Field"
      ]
     },
     "metadata": {},
     "output_type": "display_data"
    },
    {
     "name": "stdout",
     "output_type": "stream",
     "text": [
      "Multiplication impossible 2\n"
     ]
    },
    {
     "data": {
      "text/html": [
       "<html><script type=\"math/tex; mode=display\">\\newcommand{\\Bold}[1]{\\mathbf{#1}}\\left(\\begin{array}{rrr}\n",
       "24 & 48 & 78 \\\\\n",
       "9 & 18 & 29 \\\\\n",
       "8 & 16 & 26\n",
       "\\end{array}\\right)</script></html>"
      ],
      "text/plain": [
       "[24 48 78]\n",
       "[ 9 18 29]\n",
       "[ 8 16 26]"
      ]
     },
     "metadata": {},
     "output_type": "display_data"
    },
    {
     "data": {
      "text/html": [
       "<html><script type=\"math/tex; mode=display\">\\newcommand{\\Bold}[1]{\\mathbf{#1}}\\Bold{Z}</script></html>"
      ],
      "text/plain": [
       "Integer Ring"
      ]
     },
     "metadata": {},
     "output_type": "display_data"
    },
    {
     "name": "stdout",
     "output_type": "stream",
     "text": [
      "Multiplication impossible 3\n"
     ]
    },
    {
     "data": {
      "text/html": [
       "<html><script type=\"math/tex; mode=display\">\\newcommand{\\Bold}[1]{\\mathbf{#1}}\\left(\\begin{array}{r}\n",
       "75 \\\\\n",
       "\\frac{82}{3} \\\\\n",
       "25\n",
       "\\end{array}\\right)</script></html>"
      ],
      "text/plain": [
       "[  75]\n",
       "[82/3]\n",
       "[  25]"
      ]
     },
     "metadata": {},
     "output_type": "display_data"
    },
    {
     "data": {
      "text/html": [
       "<html><script type=\"math/tex; mode=display\">\\newcommand{\\Bold}[1]{\\mathbf{#1}}\\Bold{Q}</script></html>"
      ],
      "text/plain": [
       "Rational Field"
      ]
     },
     "metadata": {},
     "output_type": "display_data"
    },
    {
     "name": "stdout",
     "output_type": "stream",
     "text": [
      "Multiplication impossible 4\n"
     ]
    },
    {
     "data": {
      "text/html": [
       "<html><script type=\"math/tex; mode=display\">\\newcommand{\\Bold}[1]{\\mathbf{#1}}\\left(\\begin{array}{rrr}\n",
       "x^{2} + x + 3 & 2 \\, x^{2} + 2 \\, x + 6 & 3 \\, x^{2} + 4 \\, x + 9\n",
       "\\end{array}\\right)</script></html>"
      ],
      "text/plain": [
       "[    x^2 + x + 3 2*x^2 + 2*x + 6 3*x^2 + 4*x + 9]"
      ]
     },
     "metadata": {},
     "output_type": "display_data"
    },
    {
     "data": {
      "text/html": [
       "<html><script type=\"math/tex; mode=display\">\\newcommand{\\Bold}[1]{\\mathbf{#1}}\\text{SR}</script></html>"
      ],
      "text/plain": [
       "Symbolic Ring"
      ]
     },
     "metadata": {},
     "output_type": "display_data"
    },
    {
     "name": "stdout",
     "output_type": "stream",
     "text": [
      "Multiplication impossible 5\n"
     ]
    },
    {
     "data": {
      "text/html": [
       "<html><script type=\"math/tex; mode=display\">\\newcommand{\\Bold}[1]{\\mathbf{#1}}\\left(\\begin{array}{r}\n",
       "\\frac{7}{3} \\, x^{2} + 5 \\, x + 8\n",
       "\\end{array}\\right)</script></html>"
      ],
      "text/plain": [
       "[7/3*x^2 + 5*x + 8]"
      ]
     },
     "metadata": {},
     "output_type": "display_data"
    },
    {
     "data": {
      "text/html": [
       "<html><script type=\"math/tex; mode=display\">\\newcommand{\\Bold}[1]{\\mathbf{#1}}\\text{SR}</script></html>"
      ],
      "text/plain": [
       "Symbolic Ring"
      ]
     },
     "metadata": {},
     "output_type": "display_data"
    },
    {
     "name": "stdout",
     "output_type": "stream",
     "text": [
      "Multiplication impossible 6\n",
      "Multiplication impossible 6\n"
     ]
    },
    {
     "data": {
      "text/html": [
       "<html><script type=\"math/tex; mode=display\">\\newcommand{\\Bold}[1]{\\mathbf{#1}}\\left(\\begin{array}{rrr}\n",
       "8 & 8 \\, x & 8 \\, x^{2} \\\\\n",
       "5 & 5 \\, x & 5 \\, x^{2} \\\\\n",
       "\\frac{7}{3} & \\frac{7}{3} \\, x & \\frac{7}{3} \\, x^{2}\n",
       "\\end{array}\\right)</script></html>"
      ],
      "text/plain": [
       "[      8     8*x   8*x^2]\n",
       "[      5     5*x   5*x^2]\n",
       "[    7/3   7/3*x 7/3*x^2]"
      ]
     },
     "metadata": {},
     "output_type": "display_data"
    },
    {
     "data": {
      "text/html": [
       "<html><script type=\"math/tex; mode=display\">\\newcommand{\\Bold}[1]{\\mathbf{#1}}\\text{SR}</script></html>"
      ],
      "text/plain": [
       "Symbolic Ring"
      ]
     },
     "metadata": {},
     "output_type": "display_data"
    },
    {
     "name": "stdout",
     "output_type": "stream",
     "text": [
      "Multiplication impossible 7\n"
     ]
    }
   ],
   "source": [
    "A=matrix(2,3,[1,2,3,4,5,6])\n",
    "B=matrix(3,3, [3,6,9,1,2,4,1,2,3])\n",
    "U=matrix(1, 3, [1, x, x^2])\n",
    "V=matrix(QQ, 3, 1,[8, 5, 7/3])\n",
    "\n",
    "L = [A,B,U,V]\n",
    "cpt = 0\n",
    "for i in L :\n",
    "    for j in L :\n",
    "        try :\n",
    "            x = i*j\n",
    "            show(x)\n",
    "            cpt = cpt+1\n",
    "            show(x.base_ring())\n",
    "        except :\n",
    "            print(\"Multiplication impossible\", cpt)\n",
    "            \n"
   ]
  },
  {
   "cell_type": "markdown",
   "metadata": {
    "deletable": false,
    "editable": false,
    "run_control": {
     "frozen": true
    }
   },
   "source": [
    "## Combinaison linéaire de vecteurs\n",
    "\n",
    "Si on considère un ensemble de vecteurs colonnes $v_1,\\dots,v_m$ tous de dimension $n$, et un ensemble de scalaires $\\alpha_1,\\dots, \\alpha_m$, le calcul de la combinaison linéaire\n",
    "$$\n",
    "u = \\alpha_1v_1+\\alpha_2v_2+\\dots+\\alpha_mv_m\n",
    "$$\n",
    "est équivalent au calcul du produit d'une matrice $A$ de $n$ lignes et $m$ colonnes par un vecteur colonne de dimension $m$\n",
    "$$\n",
    "u=\n",
    "\\begin{pmatrix}\n",
    " &&&\\\\\n",
    " v_1 & v_2 & \\dots& v_m\\\\\n",
    " &&&\\\\\\\n",
    "\\end{pmatrix}\n",
    "\\begin{pmatrix}\n",
    "\\alpha_1 \\\\ \\alpha_2 \\\\ \\vdots \\\\\\alpha_m\n",
    "\\end{pmatrix}\n",
    "$$"
   ]
  },
  {
   "cell_type": "markdown",
   "metadata": {
    "deletable": false,
    "editable": false,
    "run_control": {
     "frozen": true
    }
   },
   "source": [
    "### Question\n",
    "\n",
    "Calculer la combinaison linéaire suivante :\n",
    "$$\n",
    "3 * \\begin{pmatrix} 1 \\\\ 2 \\\\ 3 \\end{pmatrix} +\n",
    "4 * \\begin{pmatrix} 2 \\\\ 3 \\\\ 4 \\end{pmatrix} +\n",
    "5 * \\begin{pmatrix} 3 \\\\ 4 \\\\ 5 \\end{pmatrix} \n",
    "$$\n",
    "en construisant la matrice $A$ et le vecteur colonne $v_1$ adéquat puis en faisant le produit $A\\times v_1$. \n",
    "\n",
    "Vous ferez le même calcul en construisant la matrice $B$ adéquate et le vecteur ligne $v_2$ en faisant le produit $v_2\\times B$. \n",
    "\n",
    "Vérifiez que $v_1$ et $v_2$ contienne bien les mêmes valeurs mais qu'ils ne sont pas identiques."
   ]
  },
  {
   "cell_type": "code",
   "execution_count": 23,
   "metadata": {},
   "outputs": [
    {
     "data": {
      "text/html": [
       "<html><script type=\"math/tex; mode=display\">\\newcommand{\\Bold}[1]{\\mathbf{#1}}\\left(\\begin{array}{r}\n",
       "26 \\\\\n",
       "38 \\\\\n",
       "50\n",
       "\\end{array}\\right)</script></html>"
      ],
      "text/plain": [
       "[26]\n",
       "[38]\n",
       "[50]"
      ]
     },
     "metadata": {},
     "output_type": "display_data"
    },
    {
     "data": {
      "text/html": [
       "<html><script type=\"math/tex; mode=display\">\\newcommand{\\Bold}[1]{\\mathbf{#1}}\\left(\\begin{array}{rrr}\n",
       "26 & 38 & 50\n",
       "\\end{array}\\right)</script></html>"
      ],
      "text/plain": [
       "[26 38 50]"
      ]
     },
     "metadata": {},
     "output_type": "display_data"
    }
   ],
   "source": [
    "a=vector(QQ, [1, 2, 3])\n",
    "b=vector(QQ, [2, 3, 4])\n",
    "c=vector(QQ, [3, 4, 5])\n",
    "\n",
    "s=(3*a)+(4*b)+(5*c)\n",
    "A=matrix(3, 3, [1,2,3,2,3,4,3,4,5])\n",
    "v1=matrix(3, 1, [3,4,5])\n",
    "show(A*v1)\n",
    "\n",
    "A2=matrix(3, 3, [1,2,3,2,3,4,3,4,5])\n",
    "v2=matrix(1, 3, [3,4,5])\n",
    "show(v2*A2)"
   ]
  },
  {
   "cell_type": "markdown",
   "metadata": {
    "deletable": false,
    "editable": false,
    "run_control": {
     "frozen": true
    }
   },
   "source": [
    "### Transposition de matrice/vecteur\n",
    "\n",
    "Les vecteurs $v_1$ et $v_2$ de la question précédente ne sont pas identique car  ils sont orientés différemment: un est en ligne alors que l'autre est en colonne. On dit qu'ils sont transposé l'un de l'autres.\n",
    "\n",
    "L'opération de tranposition d'un vecteur est donc le changement d'orientation. Cette notion s'étend aux matrices en considérant qu'une matrice est une collection de vecteurs (soit en ligne, soit en colonne, les deux chois sont possibles). Par conséquent la tranposition d'une matrice consiste à transposer les vecteurs la consistuant.\n",
    "\n",
    "$$\n",
    "A=\n",
    "\\begin{pmatrix}\n",
    " &&&\\\\\n",
    " v_1 & v_2 & \\dots& v_m\\\\\n",
    " &&&\\\\\\\n",
    "\\end{pmatrix}\n",
    " \\rightarrow\n",
    " A^T= \\begin{pmatrix}\n",
    " v_1^T \\\\ v_2^T \\\\ \\vdots \\\\ v_m^T\\\\\n",
    "\\end{pmatrix}\n",
    "$$"
   ]
  },
  {
   "cell_type": "markdown",
   "metadata": {
    "deletable": false,
    "editable": false,
    "run_control": {
     "frozen": true
    }
   },
   "source": [
    "### Question\n",
    "\n",
    "Essayer de trouver une propriété sur la transposition d'un produit en utilisant le fait que le vecteur $Av_1$ et $v_2B$ sont transposés l'un de l'autre. Si vous ne trouvez pas regarder sur Wikipédia."
   ]
  },
  {
   "cell_type": "markdown",
   "metadata": {
    "deletable": false,
    "editable": false,
    "run_control": {
     "frozen": true
    }
   },
   "source": [
    "Réponse: (A*B)^T == B^T *A^T"
   ]
  },
  {
   "cell_type": "markdown",
   "metadata": {
    "deletable": false,
    "editable": false,
    "run_control": {
     "frozen": true
    }
   },
   "source": [
    "## Résolution de systèmes d'équations linéaires\n",
    "\n",
    "La résolution d´équation linéaire est une des opérations fondamentale en algèbre linéaire, et cela s'exprime facilement via la notion de produit matrice-vecteur. En effet, si l'on pose le système d'équation suivant:\n",
    "\\begin{equation}\n",
    "\\begin{cases}\n",
    "6x+5y-z=3\\\\\n",
    "2x-5+7z=-8\\\\\n",
    "x+y+z=3\n",
    "\\end{cases}\n",
    "\\end{equation}\n",
    "on peut ré-éxprimer ce problème sous forme matricielle:\n",
    "$$\n",
    "\\begin{pmatrix}\n",
    "6 & 5 & -1\\\\\n",
    "2 & -5 & 7\\\\\n",
    "1 & 1 & 1 \\\\\n",
    "\\end{pmatrix}\n",
    "\\begin{pmatrix}x\\\\y\\\\z\\end{pmatrix}\n",
    "= \\begin{pmatrix} 3\\\\-8\\\\3 \\end{pmatrix}\n",
    "$$\n",
    "\n",
    "Pour résoudre un système d'équation linéaire donnéer par l'équation matricielle $Ax=b$,  il suffit d'appeler la méthode `A.solve_right(b)`. Si l'on souhaite résoudre à gauche $xA=b$, on appelle `A.solve_left(b)`."
   ]
  },
  {
   "cell_type": "markdown",
   "metadata": {
    "deletable": false,
    "editable": false,
    "run_control": {
     "frozen": true
    }
   },
   "source": [
    "### Question\n",
    "\n",
    "Trouver une solution au système donnée ci-dessus.\n",
    "- en cherchant une solution dans les rationnels\n",
    "- en redéfinissant le système sur le corps finis $GF(5)$. Attention, lisez bien les messages obtenus, surtout la dernière ligne."
   ]
  },
  {
   "cell_type": "code",
   "execution_count": 36,
   "metadata": {},
   "outputs": [
    {
     "data": {
      "text/html": [
       "<html><script type=\"math/tex; mode=display\">\\newcommand{\\Bold}[1]{\\mathbf{#1}}\\left[\\left[x = \\left(-\\frac{102}{19}\\right), y = \\left(\\frac{138}{19}\\right), z = \\left(\\frac{21}{19}\\right)\\right]\\right]</script></html>"
      ],
      "text/plain": [
       "[[x == (-102/19), y == (138/19), z == (21/19)]]"
      ]
     },
     "metadata": {},
     "output_type": "display_data"
    },
    {
     "data": {
      "text/html": [
       "<html><script type=\"math/tex; mode=display\">\\newcommand{\\Bold}[1]{\\mathbf{#1}}\\left(\\begin{array}{r}\n",
       "-\\frac{17}{9} \\\\\n",
       "\\frac{173}{54} \\\\\n",
       "\\frac{91}{54}\n",
       "\\end{array}\\right)</script></html>"
      ],
      "text/plain": [
       "[ -17/9]\n",
       "[173/54]\n",
       "[ 91/54]"
      ]
     },
     "metadata": {},
     "output_type": "display_data"
    }
   ],
   "source": [
    "var('x y z')\n",
    "eq1= 6*x+5*y-z\n",
    "eq2= 2*x-5+7*z\n",
    "eq3= x+y+z\n",
    "\n",
    "res=solve([eq1==3,eq2==-8, eq3==3],[x,y,z])\n",
    "show(res)\n",
    "S=(res[0][0].rhs(), res[0][1].rhs(), res[0][2].rhs())\n",
    "\n",
    "M=matrix(3, 3, [6,5,-1,2,-5,7,1,1,1])\n",
    "v=matrix(3, 1, [3,-8,3])\n",
    "show(M.solve_right(v))"
   ]
  },
  {
   "cell_type": "code",
   "execution_count": 27,
   "metadata": {},
   "outputs": [],
   "source": [
    "M=matrix(GF(3), 3, 3, [6,5,-1,2,-5,7,1,1,1])\n",
    "v=matrix(GF(3), 3, 1, [3,-8,3])\n",
    "#show(M.solve_right(v))"
   ]
  },
  {
   "cell_type": "markdown",
   "metadata": {
    "deletable": false,
    "editable": false,
    "run_control": {
     "frozen": true
    }
   },
   "source": [
    "### Question\n",
    "\n",
    "En utilisant la méthode `solve_right` des matrices trouver l'équation des droites $y=\\alpha x + \\beta $ qui passe par les points:\n",
    "- $(0,0)$ et $(3,5)$\n",
    "- $(-1,2)$ et $(7,-3)$\n",
    "\n",
    "Vous chercherez $\\alpha$ et $\\beta$ dans les rationnels et vous vérifierez vos résultats en utilisant la fonction plot sur l'intervalle $[-10,10]$."
   ]
  },
  {
   "cell_type": "code",
   "execution_count": 15,
   "metadata": {},
   "outputs": [
    {
     "data": {
      "image/png": "[encoded data removed]",
      "text/plain": [
       "Graphics object consisting of 6 graphics primitives"
      ]
     },
     "execution_count": 15,
     "metadata": {},
     "output_type": "execute_result"
    }
   ],
   "source": [
    "a=matrix(QQ, 2, 2, [0, 1, 3, 1])\n",
    "a1=matrix(QQ, 2, 1, [0, 5])\n",
    "b=matrix(QQ, 2, 2, [-1, 1, 7, 1])\n",
    "b1=matrix(QQ, 2, 1, [2, -3])\n",
    "a1=(a.solve_right(a1))\n",
    "a2=(b.solve_right(b1))\n",
    "f(x) = a1[0][0]*x + a1[1][0]\n",
    "f1(x) = a2[0][0]*x + a2[1][0]\n",
    "plot(f, (x, -10, 10))+plot(f1, (x, -10, 10))+  plot(point((0, 0), color=\"red\", pointsize=40)) + plot(point((3, 5), color=\"red\", pointsize=40)) + plot(point((-1, 2), color=\"red\", pointsize=40)) + plot(point((7, -3), color=\"red\", pointsize=40))\n",
    "\n"
   ]
  },
  {
   "cell_type": "markdown",
   "metadata": {
    "deletable": false,
    "editable": false,
    "run_control": {
     "frozen": true
    }
   },
   "source": [
    "### Interpolation de polynômes\n",
    "\n",
    "De manière plus générale, si on se donne un ensemble de $d$ points $(x_i,y_i)$ deux à deux distinct et que l'on cherche l'unique polynôme $P(x)=p_0+p_1x+p_2x^2+\\dots + p_{d-1}x^{d-1}$ qui passe par tout ces points, cela se ramène comme précédemment à une résolution de système linéaire.\n",
    "\n",
    "En effet, on peut poser le système linéaire suivant pour trouver les coefficient $p_i$ de $P(x)$.\n",
    "$$\n",
    "\\begin{pmatrix}\n",
    "1 & x_1 & x_1^2 & x_1^3 & \\dots & x_1^{d-1} \\\\\n",
    "1 & x_2 & x_2^2 & x_2^3 & \\dots & x_2^{d-1} \\\\\n",
    "\\vdots & \\vdots & \\vdots & \\vdots& \\ddots & \\vdots\\\\\n",
    "1 & x_d & x_d^2 & x_d^3 & \\dots & x_d^{d-1} \\\\\n",
    "\\end{pmatrix}\n",
    "\\begin{pmatrix}\n",
    "p_0 \\\\p_1 \\\\ p_2 \\\\ \\vdots \\\\ p_{d-1} \n",
    "\\end{pmatrix}\n",
    "= \n",
    "\\begin{pmatrix}\n",
    "y_1 \\\\y_2 \\\\ y_3 \\\\ \\vdots \\\\ y_{d} \n",
    "\\end{pmatrix}\n",
    "$$"
   ]
  },
  {
   "cell_type": "markdown",
   "metadata": {
    "deletable": false,
    "editable": false,
    "run_control": {
     "frozen": true
    }
   },
   "source": [
    "### Question\n",
    "\n",
    "Trouver le polynômes de degrès 4 à coefficient rationnels qui passe par les points suivants:\n",
    "$$(-2,3),(-1,7),(0,4),(3,1),(5,5)$$\n",
    "\n",
    "Vous afficherez les points ainsi que la fonction $f(x)$ correspondant au polynôme pour $x \\in [-3,7]$.\n",
    "Vou afficherez également le polynôme."
   ]
  },
  {
   "cell_type": "code",
   "execution_count": 16,
   "metadata": {},
   "outputs": [
    {
     "data": {
      "text/html": [
       "<html><script type=\"math/tex; mode=display\">\\newcommand{\\Bold}[1]{\\mathbf{#1}}\\left(\\begin{array}{r}\n",
       "-\\frac{47}{420} \\\\\n",
       "\\frac{4}{5} \\\\\n",
       "-\\frac{19}{60} \\\\\n",
       "-\\frac{148}{35} \\\\\n",
       "4\n",
       "\\end{array}\\right)</script></html>"
      ],
      "text/plain": [
       "[-47/420]\n",
       "[    4/5]\n",
       "[ -19/60]\n",
       "[-148/35]\n",
       "[      4]"
      ]
     },
     "metadata": {},
     "output_type": "display_data"
    },
    {
     "data": {
      "image/png": "[encoded data removed]",
      "text/plain": [
       "Graphics object consisting of 6 graphics primitives"
      ]
     },
     "execution_count": 16,
     "metadata": {},
     "output_type": "execute_result"
    }
   ],
   "source": [
    "a=matrix(5, 5, [(-2)^4, (-2)^3, (-2)^2, (-2)^1, 1, (-1)^4, (-1)^3, (-1)^2, (-1)^1, 1, 0^4, 0^3, 0^2, 0^1, 1, 3^4, 3^3, 3^2, 3^1, 1, 5^4, 5^3, 5^2, 5^1, 1])\n",
    "b=matrix(5, 1, [3, 7, 4, 1, 5])  \n",
    "res = (a.solve_right(b))\n",
    "\n",
    "show(res)\n",
    "f(x)= res[0][0]*x^4 + res[1][0]*x^3 + res[2][0]*x^2 + res[3][0]*x + res[4][0]\n",
    "plot(f, (x, -3, 7)) + plot(point((-2, 3), color=\"red\", pointsize=20)) + plot(point((-1, 7), color=\"red\", pointsize=20)) + plot(point((0, 4), color=\"red\", pointsize=20)) + plot(point((3, 1), color=\"red\", pointsize=20)) + plot(point((5, 5), color=\"red\", pointsize=20))"
   ]
  },
  {
   "cell_type": "markdown",
   "metadata": {
    "deletable": false,
    "editable": false,
    "run_control": {
     "frozen": true
    }
   },
   "source": [
    "## Méthode des moindres carrés\n",
    "\n",
    "\n",
    "Si l'on considère le système d'équation linéaires données par l'égalité matricielle $Ax=b$ avec $A$ une matrice constituée de $m$ lignes et de $n<m$ colonnes. Il n'existe pas de manière générale une solution $x$ à cette égalité. Toutefois, on s'intéresse à trouver un vecteur $x$ tel que $Ax$ soit au plus proche de $b$. Pour cela on va utiliser la norme Euclidienne des vecteurs : soit $v=[v_1 v_2 \\dots v_n]$ alors sa norme Euclidienne est  $|| v||_2 = \\sqrt{v*v}=\\sqrt{v_1^2+v_2^2+\\dots+v_n^2}$.\n",
    "\n",
    "Ainsi notre problème se ramène à trouver le vecteur $x$ qui minimise $|| Ax-b||_2$.\n",
    "\n",
    "Si la matrice $A$ a de bonnes propriétés (de rang maximal), alors la solution $x$ peut se calculer avec la résolution d'un autre système linéaire $Hx=c$ avec :\n",
    "- $H=A^TA$\n",
    "- $c=A^Tb$"
   ]
  },
  {
   "cell_type": "markdown",
   "metadata": {
    "deletable": false,
    "editable": false,
    "run_control": {
     "frozen": true
    }
   },
   "source": [
    "### Question\n",
    "\n",
    "En reprenant notre exemple précédent sur le calcul d'une droite  le problème revient à trouver l'équation d'un droite $y=\\alpha x+\\beta$ qui passe par plus que 2 points. Bien entendu si les points ne sont pas alignés, il n'y a pas de solution. La méthode des moindres carrées permet ici de trouver l'équation d'une droite qui minimise l'écart entre la droite et les points.\n",
    "\n",
    "Trouver quelle est la droite qui est la plus proche des points suivants:\n",
    "$(-10, -37), (-6, -7), (-2, -21), (2, 9), (6, 3)$\n",
    "Vous afficherez les points ainsi que la droite trouvée.\n"
   ]
  },
  {
   "cell_type": "code",
   "execution_count": 17,
   "metadata": {},
   "outputs": [
    {
     "data": {
      "text/html": [
       "<html><script type=\"math/tex; mode=display\">\\newcommand{\\Bold}[1]{\\mathbf{#1}}2 \\, \\sqrt{\\frac{582}{5}}</script></html>"
      ],
      "text/plain": [
       "2*sqrt(582/5)"
      ]
     },
     "metadata": {},
     "output_type": "display_data"
    }
   ],
   "source": [
    "a=matrix(5, 2, [-10, 1, -6, 1, -2, 1, 2, 1, 6, 1])\n",
    "b=matrix(5, 1, [-37, -7, -21, 9, 3])\n",
    "\n",
    "def norme(n) :\n",
    "    s = 0\n",
    "    for i in range(len(n.rows())): \n",
    "        s = s + (n[i][0])^2\n",
    "    return sqrt(s)\n",
    "\n",
    "at = a.transpose()\n",
    "H = at*a\n",
    "c = at*b\n",
    "res=(H.solve_right(c))\n",
    "sol=(a*res-b)\n",
    "show(norme(sol))\n",
    "f(x) = res[0][0]*x+ res[1][0]"
   ]
  },
  {
   "cell_type": "code",
   "execution_count": 18,
   "metadata": {},
   "outputs": [
    {
     "data": {
      "image/png": "[encoded data removed]",
      "text/plain": [
       "Graphics object consisting of 6 graphics primitives"
      ]
     },
     "execution_count": 18,
     "metadata": {},
     "output_type": "execute_result"
    }
   ],
   "source": [
    "plot(f, (x, -10, 7)) + plot(point((-10, -37), color=\"red\", pointsize=20)) + plot(point((-6, -7), color=\"red\", pointsize=20)) + plot(point((-2, -21), color=\"red\", pointsize=20)) + plot(point((2, 9), color=\"red\", pointsize=20)) + plot(point((6, 3), color=\"red\", pointsize=20))"
   ]
  },
  {
   "cell_type": "markdown",
   "metadata": {
    "deletable": false,
    "editable": false,
    "run_control": {
     "frozen": true
    }
   },
   "source": [
    "### Question\n",
    "\n",
    "Faite la même chose pour trouver un polynôme de degrès 3 qui est le plus proche des points suivants:\n",
    "$(-2,3),(-1,7),(0,4),(3,1),(4,4),(5,5)$\n",
    "\n",
    "Comme précémment vous afficherez les points ainsi que la fonction  𝑓(𝑥)  correspondant au polynôme pour  $𝑥∈[−3,7]$."
   ]
  },
  {
   "cell_type": "code",
   "execution_count": 23,
   "metadata": {},
   "outputs": [
    {
     "data": {
      "text/html": [
       "<html><script type=\"math/tex; mode=display\">\\newcommand{\\Bold}[1]{\\mathbf{#1}}\\left(\\begin{array}{r}\n",
       "\\frac{209}{1530} \\\\\n",
       "-\\frac{1603}{3230} \\\\\n",
       "-\\frac{12094}{14535} \\\\\n",
       "\\frac{4927}{969}\n",
       "\\end{array}\\right)</script></html>"
      ],
      "text/plain": [
       "[    209/1530]\n",
       "[  -1603/3230]\n",
       "[-12094/14535]\n",
       "[    4927/969]"
      ]
     },
     "metadata": {},
     "output_type": "display_data"
    }
   ],
   "source": [
    "A = matrix(QQ, 6, 4, [(-2)**3, (-2)**2, (-2)**1, (-2)**0, (-1)**3, (-1)**2, (-1)**1, (-1)**0, 0, 0, 0, 1, 3**3, 3**2, 3**1, 3**0, 4**3, 4**2, 4**1, 4**0, 5**3, 5**2, 5**1, 5**0])\n",
    "B = matrix(QQ, 6, 1, [3, 7, 4, 1, 4, 5])\n",
    "\n",
    "At = A.transpose()\n",
    "H = At * A\n",
    "c = At * B\n",
    "res=(H.solve_right(c))\n",
    "sol=(A*res-B)\n",
    "\n",
    "show(res)"
   ]
  },
  {
   "cell_type": "code",
   "execution_count": 27,
   "metadata": {},
   "outputs": [
    {
     "data": {
      "image/png": "[encoded data removed]",
      "text/plain": [
       "Graphics object consisting of 7 graphics primitives"
      ]
     },
     "execution_count": 27,
     "metadata": {},
     "output_type": "execute_result"
    }
   ],
   "source": [
    "f(x) = res[0][0]*x^3 + res[1][0]*x^2 + res[2][0]*x + res[3][0]\n",
    "plot(f, (x, -3, 6)) + plot(point((-2, 3), color=\"red\", pointsize=20)) + plot(point((-1, 7), color=\"red\", pointsize=20)) + plot(point((4, 4), color=\"red\", pointsize=20)) + plot(point((3, 1), color=\"red\", pointsize=20)) + plot(point((5, 5), color=\"red\", pointsize=20)) + plot(point((5, 5), color=\"red\", pointsize=20))"
   ]
  },
  {
   "cell_type": "markdown",
   "metadata": {
    "deletable": false,
    "editable": false,
    "run_control": {
     "frozen": true
    }
   },
   "source": [
    "## Réécriture d'un vecteur à partir d'autres vecteurs.\n",
    "Étant donné un ensemble de vecteur $v_1,\\dots,v_n$ on peut se poser la question de savoir si il est possible d'écrire un autre vecteur $u$ à partir de combinaison linéaire des vecteurs $v_i$. \n"
   ]
  },
  {
   "cell_type": "markdown",
   "metadata": {
    "deletable": false,
    "editable": false,
    "run_control": {
     "frozen": true
    }
   },
   "source": [
    "### question\n",
    "On considére les vecteurs à coefficients dans le corps finis à 3 éléments (`GF(3)` en Sage est équivalement aux entiers modulo 3) donnés ci-dessous\n",
    "$$\n",
    "v_1=\\begin{pmatrix} 0 \\\\ 1 \\\\2 \\end{pmatrix},\n",
    "v_2=\\begin{pmatrix} 1 \\\\ 0 \\\\1 \\end{pmatrix},\n",
    "v_3=\\begin{pmatrix} 1 \\\\ 1 \\\\1 \\end{pmatrix}\n",
    "$$\n",
    "\n",
    "Construisez la liste des vecteurs qui peuvent s'écrire comme combinaison linéaire de $v_1,v_2,v_3$, câd tous les vecteurs $\\alpha_1 v_1 +\\alpha_2  v_2 + \\alpha_3 v_3$ avec $\\alpha_1,\\alpha_2,\\alpha_3$ des scalaires dans $\\{0,1,2\\}$. Attention, les calculs doivent se faire modulo 3 et il faut éviter les doublons. Combien de vecteurs trouvez vous ?\n"
   ]
  },
  {
   "cell_type": "code",
   "execution_count": 68,
   "metadata": {},
   "outputs": [
    {
     "data": {
      "text/html": [
       "<html><script type=\"math/tex; mode=display\">\\newcommand{\\Bold}[1]{\\mathbf{#1}}\\left(\\left[\\left(\\begin{array}{r}\n",
       "0 \\\\\n",
       "0 \\\\\n",
       "0\n",
       "\\end{array}\\right), \\left(\\begin{array}{r}\n",
       "1 \\\\\n",
       "1 \\\\\n",
       "1\n",
       "\\end{array}\\right), \\left(\\begin{array}{r}\n",
       "2 \\\\\n",
       "2 \\\\\n",
       "2\n",
       "\\end{array}\\right), \\left(\\begin{array}{r}\n",
       "1 \\\\\n",
       "0 \\\\\n",
       "1\n",
       "\\end{array}\\right), \\left(\\begin{array}{r}\n",
       "2 \\\\\n",
       "1 \\\\\n",
       "2\n",
       "\\end{array}\\right), \\left(\\begin{array}{r}\n",
       "0 \\\\\n",
       "2 \\\\\n",
       "0\n",
       "\\end{array}\\right), \\left(\\begin{array}{r}\n",
       "2 \\\\\n",
       "0 \\\\\n",
       "2\n",
       "\\end{array}\\right), \\left(\\begin{array}{r}\n",
       "0 \\\\\n",
       "1 \\\\\n",
       "0\n",
       "\\end{array}\\right), \\left(\\begin{array}{r}\n",
       "1 \\\\\n",
       "2 \\\\\n",
       "1\n",
       "\\end{array}\\right), \\left(\\begin{array}{r}\n",
       "0 \\\\\n",
       "1 \\\\\n",
       "2\n",
       "\\end{array}\\right), \\left(\\begin{array}{r}\n",
       "1 \\\\\n",
       "2 \\\\\n",
       "0\n",
       "\\end{array}\\right), \\left(\\begin{array}{r}\n",
       "2 \\\\\n",
       "0 \\\\\n",
       "1\n",
       "\\end{array}\\right), \\left(\\begin{array}{r}\n",
       "1 \\\\\n",
       "1 \\\\\n",
       "0\n",
       "\\end{array}\\right), \\left(\\begin{array}{r}\n",
       "2 \\\\\n",
       "2 \\\\\n",
       "1\n",
       "\\end{array}\\right), \\left(\\begin{array}{r}\n",
       "0 \\\\\n",
       "0 \\\\\n",
       "2\n",
       "\\end{array}\\right), \\left(\\begin{array}{r}\n",
       "2 \\\\\n",
       "1 \\\\\n",
       "1\n",
       "\\end{array}\\right), \\left(\\begin{array}{r}\n",
       "0 \\\\\n",
       "2 \\\\\n",
       "2\n",
       "\\end{array}\\right), \\left(\\begin{array}{r}\n",
       "1 \\\\\n",
       "0 \\\\\n",
       "0\n",
       "\\end{array}\\right), \\left(\\begin{array}{r}\n",
       "0 \\\\\n",
       "2 \\\\\n",
       "1\n",
       "\\end{array}\\right), \\left(\\begin{array}{r}\n",
       "1 \\\\\n",
       "0 \\\\\n",
       "2\n",
       "\\end{array}\\right), \\left(\\begin{array}{r}\n",
       "2 \\\\\n",
       "1 \\\\\n",
       "0\n",
       "\\end{array}\\right), \\left(\\begin{array}{r}\n",
       "1 \\\\\n",
       "2 \\\\\n",
       "2\n",
       "\\end{array}\\right), \\left(\\begin{array}{r}\n",
       "2 \\\\\n",
       "0 \\\\\n",
       "0\n",
       "\\end{array}\\right), \\left(\\begin{array}{r}\n",
       "0 \\\\\n",
       "1 \\\\\n",
       "1\n",
       "\\end{array}\\right), \\left(\\begin{array}{r}\n",
       "2 \\\\\n",
       "2 \\\\\n",
       "0\n",
       "\\end{array}\\right), \\left(\\begin{array}{r}\n",
       "0 \\\\\n",
       "0 \\\\\n",
       "1\n",
       "\\end{array}\\right), \\left(\\begin{array}{r}\n",
       "1 \\\\\n",
       "1 \\\\\n",
       "2\n",
       "\\end{array}\\right)\\right], 27\\right)</script></html>"
      ],
      "text/plain": [
       "([\n",
       "[0]  [1]  [2]  [1]  [2]  [0]  [2]  [0]  [1]  [0]  [1]  [2]  [1]  [2]\n",
       "[0]  [1]  [2]  [0]  [1]  [2]  [0]  [1]  [2]  [1]  [2]  [0]  [1]  [2]\n",
       "[0], [1], [2], [1], [2], [0], [2], [0], [1], [2], [0], [1], [0], [1],\n",
       "\n",
       "[0]  [2]  [0]  [1]  [0]  [1]  [2]  [1]  [2]  [0]  [2]  [0]  [1]\n",
       "[0]  [1]  [2]  [0]  [2]  [0]  [1]  [2]  [0]  [1]  [2]  [0]  [1]\n",
       "[2], [1], [2], [0], [1], [2], [0], [2], [0], [1], [0], [1], [2]\n",
       "],\n",
       " 27)"
      ]
     },
     "metadata": {},
     "output_type": "display_data"
    }
   ],
   "source": [
    "v1 = matrix(GF(3), 3, 1, [0, 1, 2])\n",
    "v2 = matrix(GF(3), 3, 1, [1, 0, 1])\n",
    "v3 = matrix(GF(3), 3, 1, [1, 1, 1])\n",
    "R = []\n",
    "        \n",
    "def combi(R) :\n",
    "    cpt = 0\n",
    "    for i in GF(3) :\n",
    "        for j in GF(3) :\n",
    "            for k in GF(3) :\n",
    "                s = (i*v1 + j*v2 + k*v3)\n",
    "                if not(s in R) :\n",
    "                    R.append(s)\n",
    "                    cpt = cpt+1\n",
    "    return (R, cpt)\n",
    "\n",
    "show(combi(R))"
   ]
  },
  {
   "cell_type": "markdown",
   "metadata": {
    "deletable": false,
    "editable": false,
    "run_control": {
     "frozen": true
    }
   },
   "source": [
    "### question\n",
    "Faite la même chose avec en remplacant le vecteur $v_3$ par le vecteur $v_4=\\begin{pmatrix} 1 \\\\ 1 \\\\0 \\end{pmatrix}$. \n",
    "- Que remarquez vous ? \n",
    "- Essayer de donner une explication à partir des valeurs de $v_1,v_2$ et $v_4$"
   ]
  },
  {
   "cell_type": "code",
   "execution_count": 78,
   "metadata": {},
   "outputs": [
    {
     "data": {
      "text/html": [
       "<html><script type=\"math/tex; mode=display\">\\newcommand{\\Bold}[1]{\\mathbf{#1}}\\left(\\left[\\left(\\begin{array}{r}\n",
       "0 \\\\\n",
       "0 \\\\\n",
       "0\n",
       "\\end{array}\\right), \\left(\\begin{array}{r}\n",
       "1 \\\\\n",
       "1 \\\\\n",
       "0\n",
       "\\end{array}\\right), \\left(\\begin{array}{r}\n",
       "2 \\\\\n",
       "2 \\\\\n",
       "0\n",
       "\\end{array}\\right), \\left(\\begin{array}{r}\n",
       "1 \\\\\n",
       "0 \\\\\n",
       "1\n",
       "\\end{array}\\right), \\left(\\begin{array}{r}\n",
       "2 \\\\\n",
       "1 \\\\\n",
       "1\n",
       "\\end{array}\\right), \\left(\\begin{array}{r}\n",
       "0 \\\\\n",
       "2 \\\\\n",
       "1\n",
       "\\end{array}\\right), \\left(\\begin{array}{r}\n",
       "2 \\\\\n",
       "0 \\\\\n",
       "2\n",
       "\\end{array}\\right), \\left(\\begin{array}{r}\n",
       "0 \\\\\n",
       "1 \\\\\n",
       "2\n",
       "\\end{array}\\right), \\left(\\begin{array}{r}\n",
       "1 \\\\\n",
       "2 \\\\\n",
       "2\n",
       "\\end{array}\\right)\\right], 9\\right)</script></html>"
      ],
      "text/plain": [
       "([\n",
       "[0]  [1]  [2]  [1]  [2]  [0]  [2]  [0]  [1]\n",
       "[0]  [1]  [2]  [0]  [1]  [2]  [0]  [1]  [2]\n",
       "[0], [0], [0], [1], [1], [1], [2], [2], [2]\n",
       "],\n",
       " 9)"
      ]
     },
     "metadata": {},
     "output_type": "display_data"
    }
   ],
   "source": [
    "v3 = matrix(GF(3), 3, 1, [1, 1, 0])\n",
    "N = []\n",
    "show(combi(N))"
   ]
  },
  {
   "cell_type": "code",
   "execution_count": 79,
   "metadata": {},
   "outputs": [],
   "source": [
    "#On 3x moins de valeurs "
   ]
  },
  {
   "cell_type": "markdown",
   "metadata": {
    "deletable": false,
    "editable": false,
    "run_control": {
     "frozen": true
    }
   },
   "source": [
    "Vous venez d'entrevoir la notion de dimension d'un espace vectoriel, c'est à dire le nombre minimal de vecteurs permettant de définir cet espace. Autrement dit, la taille d'une famille libre de cet espace. Cette information est accessible en construisant la matrice constituées des vecteurs données et en calculant son rang: `A.rank()` ou `A` est une matrice."
   ]
  },
  {
   "cell_type": "markdown",
   "metadata": {
    "deletable": false,
    "editable": false,
    "run_control": {
     "frozen": true
    }
   },
   "source": [
    "### Question \n",
    "Construisez les matrices $A_1$ et $A_2$ à partir des vecteurs $v_1,v_2,v_3$ et $v_4$ données précédemment.\n",
    "Les lignes de $A_1$ correspondent à $v_1,v_2,v_3$ et celles de $A_2$ à $v_1,v_2,v_4$. \n",
    "Retrouver le nombre de vecteurs des questions précédentes à partit du rang de ces matrices.\n"
   ]
  },
  {
   "cell_type": "code",
   "execution_count": 95,
   "metadata": {},
   "outputs": [
    {
     "data": {
      "text/html": [
       "<html><script type=\"math/tex; mode=display\">\\newcommand{\\Bold}[1]{\\mathbf{#1}}3</script></html>"
      ],
      "text/plain": [
       "3"
      ]
     },
     "metadata": {},
     "output_type": "display_data"
    },
    {
     "data": {
      "text/html": [
       "<html><script type=\"math/tex; mode=display\">\\newcommand{\\Bold}[1]{\\mathbf{#1}}2</script></html>"
      ],
      "text/plain": [
       "2"
      ]
     },
     "metadata": {},
     "output_type": "display_data"
    }
   ],
   "source": [
    "A1 = matrix(GF(3), 3, 3, [0, 1, 2, 1, 0, 1, 1, 1, 1])\n",
    "A2 = matrix(GF(3), 3, 3, [0, 1, 2, 1, 0, 1, 1, 1, 0])\n",
    "show(A1.rank())\n",
    "show(A2.rank())"
   ]
  },
  {
   "cell_type": "markdown",
   "metadata": {
    "deletable": false,
    "editable": false,
    "run_control": {
     "frozen": true
    }
   },
   "source": [
    "Pour déduire la dépendance entre les vecteurs, on peut s'appuyer sur la méthode 'right_kernel()' qui pour une matrice donnée $A \\in \\mathbb{K}^{m \\times n}$ retourne l'espace des vecteurs de $\\mathbb{K}^n$ qui annule cette matrice par multiplication à droite. C'est à dire \n",
    "\n",
    "$$\n",
    "\\operatorname{kernel}(A) =v \\in \\mathbb{K}^n \\mbox{ tel que } Av = 0 \\in \\mathbb{K}^m\n",
    "$$\n",
    "\n",
    "Attention, cet espace de vecteur est considéré par Sage comme un objet algébrique. Il faut donc utiliser la méthode 'basis_matrix()' pour récupérer une matrice définissant une base de cet espace."
   ]
  },
  {
   "cell_type": "markdown",
   "metadata": {
    "deletable": false,
    "editable": false,
    "run_control": {
     "frozen": true
    }
   },
   "source": [
    "### Question\n",
    "Retrouvez la combinaison linéaire entre $v_1,v_2$ et $v_4$ trouver précédemment. Vous utiliserez `print` pour afficher l'égalité."
   ]
  },
  {
   "cell_type": "code",
   "execution_count": 97,
   "metadata": {},
   "outputs": [
    {
     "data": {
      "text/html": [
       "<html><script type=\"math/tex; mode=display\">\\newcommand{\\Bold}[1]{\\mathbf{#1}}\\left(\\begin{array}{rrr}\n",
       "0 & 0 & 0\n",
       "\\end{array}\\right)</script></html>"
      ],
      "text/plain": [
       "[0 0 0]"
      ]
     },
     "metadata": {},
     "output_type": "display_data"
    }
   ],
   "source": [
    "A2t = A2.transpose()\n",
    "ker = A2t.right_kernel().basis_matrix()\n",
    "show(ker*A2)"
   ]
  },
  {
   "cell_type": "markdown",
   "metadata": {
    "deletable": false,
    "editable": false,
    "run_control": {
     "frozen": true
    }
   },
   "source": [
    "## Méthode d'élimination de Gauss\n",
    "Bien évidemment, la méthode de calcul exhaustif  employée précédemment ne peut être utilisée si l'on considère un domaine de calul de taille infini comme les entiers ou les rationnels, ou même avec une espace fini de grande taille comme les flottants double précision. En effet, la complexité est exponentielle en le nombre de vecteurs.\n",
    "\n",
    "La méthode d'élimination de Gauss, aussi appelée pivot de Gauss, est une solution algorithmique qui permet de rester dans une complexité polynomiale pour calculer la dépendance linéaire de vecteurs. L'idée est très simple: l'objectif est de rendre certaines entrées d'un vecteur à 0 en faisant des combinaisons linéaire 2 à 2.\n",
    "\n",
    "Par exemple, avec $v_1=[1,2,3]$ et $v_2=[1,4,5]$ à coefficient dans les entiers, on a $v_1-v_2=[0 -2 -2]$. Par construction, on sait que  l'ensemble des combinaisons linéaires de $v_1,v_2$ est équivalent à celui de $v_1,v_1-v_2$ ou $v_1-v_2, v_2$.\n",
    "Comme $v_1-v_2$ a un zero dans sa 1ère composante et que ce n'est pas le cas de $v_1$ ou $v_2$ alors il est linéairement indépendant de $v_1$ et $v_2$.\n",
    "\n",
    "Le procédé de l'élimination de Gauss consite donc à ajouter à un vecteur $v$ un multiple d'un autre vecteur $u$, tel qu'une composante du nouveau vecteur soit nul. L'élimination de Gauss est l'algorithme qui est utilisé par la fonction `basis_matrix()`. Nous allons découvrir comment fonctionne cet algorithme."
   ]
  },
  {
   "cell_type": "markdown",
   "metadata": {
    "deletable": false,
    "editable": false,
    "run_control": {
     "frozen": true
    }
   },
   "source": [
    "### Question\n",
    "Écrire une fonction `combineVect(u,v,i)` qui prend en entrée deux vecteur $u$ et $v$ de même dimension $n$ tel que $i<n$ et $u[i]\\neq 0$. Cette fonction retourne un nouveau vecteur $r=v+\\alpha u$ tel que l'entrée en position $i$ du vecteur $r$ soit nulle.  \n",
    "\n",
    "Vous testerez votre fonction sur les lignes de la matrice $A$ suivante définie sur $\\mathbb{Q}$:\n",
    "\n",
    "$$A=\n",
    "\\begin{pmatrix}\n",
    "2/3 & 1 & 5 \\\\\n",
    "1 & 1/5 & 8 \\\\\n",
    "5 & 1/2 & 3/4\n",
    "\\end{pmatrix}.\n",
    "$$\n",
    "Votre objectif est de modifier la matrice pour mettre des zero sous la diagonale. \n",
    "En notant $l_0, l_1$ et $l_2$ les lignes de la matrice A, on va devoir:\n",
    "- ajouter un multiple de $l_0$ à $l_1$ et $l_2$ pour mettre un 0 dans leur 1ère composante\n",
    "- ajouter un multiple de $l_1$ à $l_2$ pour mettre un 0 dans sa 2ème composante\n",
    "\n",
    "*Aide: on récupère une copie de la ligne i avec la méthode `A.row(i)`*"
   ]
  },
  {
   "cell_type": "code",
   "execution_count": 104,
   "metadata": {},
   "outputs": [
    {
     "data": {
      "text/html": [
       "<html><script type=\"math/tex; mode=display\">\\newcommand{\\Bold}[1]{\\mathbf{#1}}\\left(\\begin{array}{rrr}\n",
       "\\frac{2}{3} & 1 & 5 \\\\\n",
       "1 & \\frac{1}{5} & 8 \\\\\n",
       "5 & \\frac{1}{2} & \\frac{3}{4}\n",
       "\\end{array}\\right)</script></html>"
      ],
      "text/plain": [
       "[2/3   1   5]\n",
       "[  1 1/5   8]\n",
       "[  5 1/2 3/4]"
      ]
     },
     "metadata": {},
     "output_type": "display_data"
    },
    {
     "data": {
      "text/html": [
       "<html><script type=\"math/tex; mode=display\">\\newcommand{\\Bold}[1]{\\mathbf{#1}}\\left(\\begin{array}{rrr}\n",
       "\\frac{2}{3} & 1 & 5 \\\\\n",
       "0 & -\\frac{13}{10} & \\frac{1}{2} \\\\\n",
       "5 & \\frac{1}{2} & \\frac{3}{4}\n",
       "\\end{array}\\right)</script></html>"
      ],
      "text/plain": [
       "[   2/3      1      5]\n",
       "[     0 -13/10    1/2]\n",
       "[     5    1/2    3/4]"
      ]
     },
     "metadata": {},
     "output_type": "display_data"
    },
    {
     "data": {
      "text/html": [
       "<html><script type=\"math/tex; mode=display\">\\newcommand{\\Bold}[1]{\\mathbf{#1}}\\left(\\begin{array}{rrr}\n",
       "\\frac{2}{3} & 1 & 5 \\\\\n",
       "0 & -\\frac{13}{10} & \\frac{1}{2} \\\\\n",
       "0 & -7 & -\\frac{147}{4}\n",
       "\\end{array}\\right)</script></html>"
      ],
      "text/plain": [
       "[   2/3      1      5]\n",
       "[     0 -13/10    1/2]\n",
       "[     0     -7 -147/4]"
      ]
     },
     "metadata": {},
     "output_type": "display_data"
    },
    {
     "data": {
      "text/html": [
       "<html><script type=\"math/tex; mode=display\">\\newcommand{\\Bold}[1]{\\mathbf{#1}}\\left(\\begin{array}{rrr}\n",
       "\\frac{2}{3} & 1 & 5 \\\\\n",
       "0 & -\\frac{13}{10} & \\frac{1}{2} \\\\\n",
       "0 & 0 & -\\frac{2051}{52}\n",
       "\\end{array}\\right)</script></html>"
      ],
      "text/plain": [
       "[     2/3        1        5]\n",
       "[       0   -13/10      1/2]\n",
       "[       0        0 -2051/52]"
      ]
     },
     "metadata": {},
     "output_type": "display_data"
    }
   ],
   "source": [
    "A = matrix(3, 3, [2/3, 1, 5, 1, 1/5, 8, 5, 1/2, 3/4])\n",
    "def combineVect(u,v,i) :\n",
    "        return v - (v[i]/u[i])*u\n",
    "show(A)\n",
    "A[1, :] = combineVect(A.row(0), A.row(1), 0)\n",
    "show(A)\n",
    "A[2, :] = combineVect(A.row(0), A.row(2), 0)\n",
    "show(A)\n",
    "A[2, :] = combineVect(A.row(1), A.row(2), 1)\n",
    "show(A)"
   ]
  },
  {
   "cell_type": "markdown",
   "metadata": {
    "deletable": false,
    "editable": false,
    "run_control": {
     "frozen": true
    }
   },
   "source": [
    "De manière plus générale, pour savoir si un vecteur $u$ peut s'écrire comme une combinaison linéaire d'autres vecteur $v_1, \\dots, v_m$, il suffit de construire la matrice\n",
    "\n",
    "$$\n",
    "A=\n",
    "\\begin{pmatrix}\n",
    "&&v_1&&\\\\\n",
    "&&v_2&&\\\\\n",
    "&&\\vdots&&\\\\\n",
    "&&v_m&&\\\\\n",
    "&&u&&\n",
    "\\end{pmatrix}\n",
    "$$\n",
    "est d'essayer de mettre des zero sous la diagonale comme précédemment. Si après ce procédé la dernière ligne de $A$ est nulle alors $u$ peut s'écrire comme une combinaison linéaire des $v_i$."
   ]
  },
  {
   "cell_type": "markdown",
   "metadata": {
    "deletable": false,
    "editable": false,
    "run_control": {
     "frozen": true
    }
   },
   "source": [
    "### Question\n",
    "Écrire un  fonction `dependanceLineaire([v1,...,vm,u])` qui teste si le vecteur $u$ peut s'écrire comme une combinaison linéaire des vecteurs $v_i$. Autrement dit, la fonction cherche une dépendance linéaire entre le dernier vecteur de la liste et tous les autres\n",
    "\n",
    "Pour écrire votre fonction, vous proposerez une généralisation du calcul fait à la question précédente.\n",
    "\n",
    "Vous testerez votre fonction avec la liste $L= [v_3,v_2, v_1,u]$ pour $u=[2,1,2]$."
   ]
  },
  {
   "cell_type": "code",
   "execution_count": 130,
   "metadata": {},
   "outputs": [],
   "source": [
    "v1 = vector(GF(3), 3, [0, 1, 2])\n",
    "v2 = vector(GF(3), 3, [1, 0, 1])\n",
    "v3 = vector(GF(3), 3, [1, 1, 1])\n",
    "u = vector(GF(3), 3, [2, 1, 2])\n",
    "L = [v3, v2, v1, u]\n",
    "\n",
    "def dependanceLineaire(L) : \n",
    "    A = matrix(L)\n",
    "    for k in range(1, len(L)) :\n",
    "        for l in range(k) :\n",
    "            if A.row(k)[l] != 0 :\n",
    "                A[k, :] = combineVect(A.row(l), A.row(k), l)\n",
    "    return A"
   ]
  },
  {
   "cell_type": "code",
   "execution_count": 131,
   "metadata": {},
   "outputs": [
    {
     "data": {
      "text/html": [
       "<html><script type=\"math/tex; mode=display\">\\newcommand{\\Bold}[1]{\\mathbf{#1}}\\left(\\begin{array}{rrr}\n",
       "1 & 1 & 1 \\\\\n",
       "0 & 2 & 0 \\\\\n",
       "0 & 0 & 2 \\\\\n",
       "0 & 0 & 0\n",
       "\\end{array}\\right)</script></html>"
      ],
      "text/plain": [
       "[1 1 1]\n",
       "[0 2 0]\n",
       "[0 0 2]\n",
       "[0 0 0]"
      ]
     },
     "metadata": {},
     "output_type": "display_data"
    }
   ],
   "source": [
    "show(dependanceLineaire(L))"
   ]
  },
  {
   "cell_type": "markdown",
   "metadata": {
    "deletable": false,
    "editable": false,
    "run_control": {
     "frozen": true
    }
   },
   "source": [
    "Tester votre fonction en inversant l'ordre des éléments de la liste: $L= [v_1,v_2, v_3, u]$. *Attention, il est normal que votre fonction ne marche pas.*"
   ]
  },
  {
   "cell_type": "code",
   "execution_count": 133,
   "metadata": {},
   "outputs": [],
   "source": [
    "Lt = [v1, v2, v3, u]\n",
    "#show(dependanceLineaire(Lt))"
   ]
  },
  {
   "cell_type": "markdown",
   "metadata": {
    "deletable": false,
    "editable": false,
    "run_control": {
     "frozen": true
    }
   },
   "source": [
    "Votre fonction ne marche plus car il n'est pas garantie que lors l'appel à la fonction `combineVect` l'entrée $A[i,i]$ sur la diagonale de la matrice soit non nulle. Lorsque ce problème arrive, il suffit de trouver une ligne $j>i$ de la matrice $A$ telle que $A[j,i]\\neq 0$ et d'échanger ces deux lignes. La fonction `A.swap_rows(i,j)` vous permettra de faire cette échange. Si il n'y aucune ligne à échanger cela signifie que toutes les i-ème composantes sont toutes nulles et qu'on peut donc changer de composante qu'on doit mettre à 0. Attention, on n'échanche pas avec la dernière ligne qui correspond à $u$."
   ]
  },
  {
   "cell_type": "markdown",
   "metadata": {
    "deletable": false,
    "editable": false,
    "run_control": {
     "frozen": true
    }
   },
   "source": [
    "### Question\n",
    "Écrire une nouvelle fonction `dependanceLineaire([v1,...,vm,u])` qui prenne en compte ces échanges de lignes. Vous la testerez sur l'exemple précédent qui ne fonctionnait pas (votre fonction doit retourner `true` pour cet exemple). "
   ]
  },
  {
   "cell_type": "code",
   "execution_count": 0,
   "metadata": {},
   "outputs": [],
   "source": [
    "def dependanceLineaire(L) : \n",
    "    A = matrix(L)\n",
    "    for k in range(1, len(L)) :\n",
    "        for l in range(k) :\n",
    "            if A.row(k)[l] != 0 :\n",
    "                A[k, :] = combineVect(A.row(l), A.row(k), l)\n",
    "    return A"
   ]
  },
  {
   "cell_type": "code",
   "execution_count": 0,
   "metadata": {},
   "outputs": [],
   "source": []
  },
  {
   "cell_type": "markdown",
   "metadata": {
    "deletable": false,
    "editable": false,
    "run_control": {
     "frozen": true
    }
   },
   "source": [
    "### Question\n",
    "Tester votre nouvelle fonction sur la liste $L= [v_4,v_2, v_1, u]$. Votre fonction doit retourner `false` pour cet exemple)."
   ]
  },
  {
   "cell_type": "code",
   "execution_count": 0,
   "metadata": {},
   "outputs": [],
   "source": []
  },
  {
   "cell_type": "markdown",
   "metadata": {
    "deletable": false,
    "editable": false,
    "run_control": {
     "frozen": true
    }
   },
   "source": [
    "On souhaite maintenant trouver les valeurs de la combinaison linéaire\n",
    "permettant de réécrire un vecteur $u$ en fonction des vecteurs $[v_1,\\dots,v_m]$, lorsque cela est possible, câd $u= \\alpha_1 v_1+\\alpha_2 v2 + \\dots + \\alpha_m v_m$.\n",
    "\n",
    "Pour cela il va falloir conserver toutes les réécriture des lignes qui sont faites avec les appels à la fonction `combineVect`. En effet, à chaque étape `i` on a calculé $u=u+\\alpha_i v_i$ tel que $u[i]$ soit nul mais les vecteur $v_i$ ont eux aussi été modifiés de telle sorte que  $v_i= v_i+\\sum_{k<i} \\beta_k v_k$. Il faut donc pouvoir conserver la ré-écriture de tous les $v_i$. Une facon simple de conserver ces réécritures est de faire le calcul sur la matrice augmentée à droite par une matrice identité de taille $m+1$.\n",
    "\n",
    "$$\n",
    "A=\n",
    "\\begin{pmatrix}\n",
    "&&v_1&& 1&&&&\\\\\n",
    "&&v_2&& &1&&&\\\\\n",
    "&&\\vdots&&&&\\ddots&&\\\\\n",
    "&&v_m&& &&&1&\\\\\n",
    "&&u&& &&&&1\n",
    "\\end{pmatrix}\n",
    "$$\n",
    "\n",
    "Si on applique notre méthode pour mettre des zéro sous la diagonale, la matrice identité conservera toutes les réécriture des vecteurs. En particulier, la dernière ligne permettra de trouver facilement les coefficients $\\alpha_i$ demandés."
   ]
  },
  {
   "cell_type": "markdown",
   "metadata": {
    "deletable": false,
    "editable": false,
    "run_control": {
     "frozen": true
    }
   },
   "source": [
    "### Question\n",
    "Proposer une nouvelle fonction `findDependanceLineaire(u,[v1,...,vm])` qui retourne le vecteur $[\\alpha_1,\\dots,\\alpha_m]$ tel que $u=\\alpha_1v_1+\\dots+\\alpha_mv_m$. Si il n'y pas de dépendance linéaire vous renverrez `None`.\n",
    "\n",
    "Vous vérifierez votre réponse pour $L= [v_3,v_2, v_1,u]$ et $L= [v_4,v_2, v_1,u]$"
   ]
  },
  {
   "cell_type": "code",
   "execution_count": 0,
   "metadata": {},
   "outputs": [],
   "source": []
  },
  {
   "cell_type": "code",
   "execution_count": 0,
   "metadata": {},
   "outputs": [],
   "source": []
  },
  {
   "cell_type": "code",
   "execution_count": 0,
   "metadata": {},
   "outputs": [],
   "source": []
  },
  {
   "cell_type": "code",
   "execution_count": 0,
   "metadata": {},
   "outputs": [],
   "source": []
  },
  {
   "cell_type": "markdown",
   "metadata": {
    "deletable": false,
    "editable": false,
    "run_control": {
     "frozen": true
    }
   },
   "source": [
    "## Rang d'une matrice avec l'élimination de Gauss\n",
    "\n",
    "La méthode d'élimination de Gauss vu précédemment permet également d'inverser une matrice (quand elle est inversible). Attention, l'inverse d'une matrice $A$ n'existe que si $A$ est carrée et que toutes les lignes sont linéairement indépendantes. On retrouve encore la notion de rang. \n",
    "\n",
    "Le rang d'une matrice est le nombre minimal de lignes (ou de colonnes) qui permet de représenter la famille\n",
    "des vecteurs lignes (ou colonnes) définie par la matrice.\n"
   ]
  },
  {
   "cell_type": "markdown",
   "metadata": {
    "deletable": false,
    "editable": false,
    "run_control": {
     "frozen": true
    }
   },
   "source": [
    "### Question\n",
    "On peut facilement modifier la méthode de Gauss vu précédemment pour calculer le rang puisqu'il suffit encore une fois de mettre des zéros sous la diagonale. La différence est que maintenant on s'autorise à faire des échanges de lignes avec la dernière ligne. À l'issue de l'élimination, il suffit de compter le nombre de lignes non-nulles pour avoir le rang.\n",
    "\n",
    "Écrire une fonction `myRank(A)` qui calcule le rang de A en utilisant l'élimination de Gauss vu précédemment.\n"
   ]
  },
  {
   "cell_type": "code",
   "execution_count": 0,
   "metadata": {},
   "outputs": [],
   "source": []
  },
  {
   "cell_type": "code",
   "execution_count": 0,
   "metadata": {},
   "outputs": [],
   "source": []
  },
  {
   "cell_type": "markdown",
   "metadata": {
    "deletable": false,
    "editable": false,
    "run_control": {
     "frozen": true
    }
   },
   "source": [
    "### Question\n",
    "Construisez des matrices aléatoires rectangulaires de taille $m \\times n$ qui ne sont pas de rang maximal. Vous vérifierez que leur rang est $< \\operatorname{min}(m,n)$ et qu'il est identique à celui calculé par la methode `rank` de Sage.  **Aide:** pour construire une matrice $A$ de rang non maximal, il suffit de construire une matrice aléatoire $B$ de taille plus petite que A et de rajouter des lignes ou des colonnes qui seront des combinaisons linéaires des lignes (ou colonnes) de B. \n",
    "\n",
    "**Rappel:** lorsque'on multiplie deux matrices A et B, leur produit réprésente à la fois:\n",
    "- une combinaison linéaire des colonnes de A\n",
    "- une combinaison linéaire des lignes de B"
   ]
  },
  {
   "cell_type": "code",
   "execution_count": 0,
   "metadata": {},
   "outputs": [],
   "source": []
  },
  {
   "cell_type": "markdown",
   "metadata": {
    "deletable": false,
    "editable": false,
    "run_control": {
     "frozen": true
    }
   },
   "source": [
    "## Inversion d'une matrice par Gauss\n",
    "\n",
    "Pour inverser une matrice carré, nous allons reprendre la méthode d'élimination de Gauss utilisée pour trouver les combinaisons linéaires de vecteurs. Cette fois-ci on va augmenter la matrice à droite avec une matrice identité et on va essayer de mettre de zero au dessus et au-dessous de la diagonale et également mettre des 1 sur la diagonale.\n",
    "\n",
    "$$\n",
    "A=\n",
    "\\begin{pmatrix}\n",
    "* & * & * & * \\\\\n",
    "* & * & * & * \\\\\n",
    "* & * & * & * \\\\\n",
    "* & * & * & * \\\\\n",
    "\\end{pmatrix}\n",
    "\\Longrightarrow\n",
    "\\begin{pmatrix}A & I \\end{pmatrix} =\n",
    "\\begin{pmatrix}\n",
    "* & * & * & * & 1& & & \\\\\n",
    "* & * & * & * &  &1 & &\\\\\n",
    "* & * & * & * &  &  &1 &\\\\\n",
    "* & * & * & * &  &  & &1\\\\\n",
    "\\end{pmatrix}\n",
    "$$\n",
    "\n",
    "$$\n",
    "\\Longrightarrow\n",
    "Gauss(\n",
    "\\begin{pmatrix}A & I \\end{pmatrix}) =\n",
    "\\begin{pmatrix}\n",
    " 1& & & & * & * & * & * \\\\\n",
    "  &1 & & & * & * & * & * \\\\\n",
    "  &  &1 & & * & * & * & * \\\\\n",
    "  &  & &  1& * & * & * & * \\\\\n",
    "\\end{pmatrix}= \\begin{pmatrix}I & A^{-1} \\end{pmatrix} \n",
    "$$\n",
    "\n",
    "Comme précédemment, on utilisera la fonction `combineVect` pour modifier une ligne en lui ajoutant un multiple d'une autre pour mettre un zero à une certaine position. Pour mettre un 1 en position $(i,i)$ dans la matrice $A$, il suffit de multiplier la ligne $i$ de A par l'inverse de l'élément $A[i,i]$."
   ]
  },
  {
   "cell_type": "markdown",
   "metadata": {
    "deletable": false,
    "editable": false,
    "run_control": {
     "frozen": true
    }
   },
   "source": [
    "### Question\n",
    "\n",
    "Écrire la fonction `myInverse(A)` qui calculer l'inverse d'une matrice carrée. Attention, vous devrez vérifier en premier que la matrice est carré. Bien entendu, il faudra s'assurer que la matrice est bien inversible, mais l'élimination de Gauss nous permettra de le savoir. En effet, il suffira de vérifier qu'à la fin de l'algorithme vous obtenez bien la matrice identité sur la partie gauche de la matrice augmentée. Si telle est le cas, la matrice est inversible et son inverse est dans la partie droite de la matrice augmentée, sinon cela signifie que la matrice n'est pas inversible.\n"
   ]
  },
  {
   "cell_type": "code",
   "execution_count": 0,
   "metadata": {},
   "outputs": [],
   "source": []
  },
  {
   "cell_type": "code",
   "execution_count": 0,
   "metadata": {},
   "outputs": [],
   "source": []
  },
  {
   "cell_type": "code",
   "execution_count": 0,
   "metadata": {},
   "outputs": [],
   "source": []
  },
  {
   "cell_type": "markdown",
   "metadata": {
    "deletable": false,
    "editable": false,
    "run_control": {
     "frozen": true
    }
   },
   "source": [
    "## Une formule récursive  pour le calcul de l'inverse\n",
    "\n",
    "En considérant la matrice  $ A= \n",
    "\\begin{pmatrix}\n",
    "a & b\\\\\n",
    "c & d\\\\\n",
    "\\end{pmatrix}\n",
    "\\,\\mbox{et le symbole }\\,\n",
    "S=d-ca^{-1}b\n",
    "$\n",
    "\n",
    "on peut facilement définir l'inverse \n",
    "$$\n",
    "A^{-1}= \n",
    "\\begin{pmatrix}\n",
    "1 & -a^{-1}b\\\\\n",
    "0 & 1\\\\\n",
    "\\end{pmatrix}\n",
    "\\begin{pmatrix}\n",
    "a^{-1} & 0\\\\\n",
    "0 & S^{-1}\\\\\n",
    "\\end{pmatrix}\n",
    "\\begin{pmatrix}\n",
    "1 & 0\\\\\n",
    "-ca^{-1} & 1\\\\\n",
    "\\end{pmatrix}\n",
    "$$\n",
    "\n",
    "\n"
   ]
  },
  {
   "cell_type": "markdown",
   "metadata": {
    "deletable": false,
    "editable": false,
    "run_control": {
     "frozen": true
    }
   },
   "source": [
    "### Question\n",
    "\n",
    "En utilisant le domaine `SymbolicRing` (`SR`) prouver la formule donnée précédemment (de deux manières différentes).\n"
   ]
  },
  {
   "cell_type": "code",
   "execution_count": 0,
   "metadata": {},
   "outputs": [],
   "source": []
  },
  {
   "cell_type": "markdown",
   "metadata": {
    "deletable": false,
    "editable": false,
    "run_control": {
     "frozen": true
    }
   },
   "source": [
    "### Généralisation de la récurrence aux matrices\n",
    "À partir de cette formule d'inversion de matrice $2\\times 2$, nous pouvons  définir un algorithme récursif.\n",
    "En effet, si la dimension $n$ d'une matrice $H$ est paire alors on peut découper la matrice $H$ en 4 blocs correspondants à des matrices de taille $\\frac{n}{2}\\times\\frac{n}{2}$\n",
    "\n",
    "$$\n",
    "H=\n",
    "\\begin{pmatrix}\n",
    "A & B\\\\\n",
    "C & D\\\\\n",
    "\\end{pmatrix}\n",
    "$$\n",
    "\n",
    "On peut donc appliquer la formule ci-dessus pour calculer l'inverse en calculant récursivement $A^{-1}$ et $S^{-1}= (D-CA^{-1}B)^{-1}$. Bien entendu, la récurrence ne sera valide que si $n=2^k$ et elle s'arrètera pour $n=1$ où il est facile de retourner l'inverse."
   ]
  },
  {
   "cell_type": "markdown",
   "metadata": {
    "deletable": false,
    "editable": false,
    "run_control": {
     "frozen": true
    }
   },
   "source": [
    "### Question\n",
    "\n",
    "Défininir la fonction `myInverseRec(H)` qui calcule l'inverse de la matrice $H$ en appliquant la méthode ci-dessus. Cette fonction ne marchera que pour des dimensions de matrices qui seront des puissances de 2."
   ]
  },
  {
   "cell_type": "code",
   "execution_count": 0,
   "metadata": {},
   "outputs": [],
   "source": []
  },
  {
   "cell_type": "markdown",
   "metadata": {
    "deletable": false,
    "editable": false,
    "run_control": {
     "frozen": true
    }
   },
   "source": [
    "### Question\n",
    "Tester votre fonction pour des matrices aléatoires de taille $2^k$ pour $1<k<8$ à coefficient dans le corps finis à 65537 éléments `GF(65537)`."
   ]
  },
  {
   "cell_type": "code",
   "execution_count": 0,
   "metadata": {},
   "outputs": [],
   "source": []
  },
  {
   "cell_type": "markdown",
   "metadata": {
    "deletable": false,
    "editable": false,
    "run_control": {
     "frozen": true
    }
   },
   "source": [
    "### Question\n",
    "\n",
    "En utilisant la fonction `%time` comparer le temps de calcul de vos deux fonctions `myInverse` et `myInverseRec`"
   ]
  },
  {
   "cell_type": "code",
   "execution_count": 0,
   "metadata": {},
   "outputs": [],
   "source": []
  },
  {
   "cell_type": "code",
   "execution_count": 0,
   "metadata": {},
   "outputs": [],
   "source": []
  },
  {
   "cell_type": "code",
   "execution_count": 0,
   "metadata": {},
   "outputs": [],
   "source": []
  }
 ],
 "metadata": {
  "kernelspec": {
   "display_name": "SageMath 9.0",
   "language": "sage",
   "name": "sagemath"
  },
  "language_info": {
   "codemirror_mode": {
    "name": "ipython",
    "version": 3
   },
   "file_extension": ".py",
   "mimetype": "text/x-python",
   "name": "python",
   "nbconvert_exporter": "python",
   "pygments_lexer": "ipython3",
   "version": "3.8.10"
  },
  "toc": {
   "base_numbering": 1,
   "nav_menu": {},
   "number_sections": true,
   "sideBar": true,
   "skip_h1_title": true,
   "title_cell": "Table of Contents",
   "title_sidebar": "Contents",
   "toc_cell": false,
   "toc_position": {
    "height": "calc(100% - 180px)",
    "left": "10px",
    "top": "150px",
    "width": "165px"
   },
   "toc_section_display": true,
   "toc_window_display": true
  },
  "varInspector": {
   "cols": {
    "lenName": 16,
    "lenType": 16,
    "lenVar": 40
   },
   "kernels_config": {
    "python": {
     "delete_cmd_postfix": "",
     "delete_cmd_prefix": "del ",
     "library": "var_list.py",
     "varRefreshCmd": "print(var_dic_list())"
    },
    "r": {
     "delete_cmd_postfix": ") ",
     "delete_cmd_prefix": "rm(",
     "library": "var_list.r",
     "varRefreshCmd": "cat(var_dic_list()) "
    }
   },
   "types_to_exclude": [
    "module",
    "function",
    "builtin_function_or_method",
    "instance",
    "_Feature"
   ],
   "window_display": false
  }
 },
 "nbformat": 4,
 "nbformat_minor": 4
}
